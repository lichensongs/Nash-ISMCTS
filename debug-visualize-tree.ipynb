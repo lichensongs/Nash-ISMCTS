{
 "cells": [
  {
   "cell_type": "code",
   "execution_count": 1,
   "id": "5dc1e920",
   "metadata": {},
   "outputs": [],
   "source": [
    "%load_ext autoreload\n",
    "%autoreload 2"
   ]
  },
  {
   "cell_type": "code",
   "execution_count": 2,
   "id": "79e93631",
   "metadata": {},
   "outputs": [
    {
     "data": {
      "application/javascript": [
       "\n",
       "    IPython.OutputArea.prototype._should_scroll = function(lines) {\n",
       "        return false;\n",
       "    }\n",
       "    "
      ],
      "text/plain": [
       "<IPython.core.display.Javascript object>"
      ]
     },
     "metadata": {},
     "output_type": "display_data"
    }
   ],
   "source": [
    "from IPython.display import display, Javascript\n",
    "\n",
    "def disable_scroll():\n",
    "    display(Javascript(\"\"\"\n",
    "    IPython.OutputArea.prototype._should_scroll = function(lines) {\n",
    "        return false;\n",
    "    }\n",
    "    \"\"\"))\n",
    "\n",
    "disable_scroll()"
   ]
  },
  {
   "cell_type": "code",
   "execution_count": 3,
   "id": "be4bdae5",
   "metadata": {},
   "outputs": [],
   "source": [
    "from KuhnPoker import KuhnPokerModel, KuhnPokerInfoSet, Card, TensorModel, gen_tree_hist, PASS, ADD_CHIP\n",
    "from TreeVisualizer import plot_trees\n",
    "\n",
    "import numpy as np\n",
    "import pickle\n",
    "import ipywidgets as widgets\n",
    "from IPython.display import display\n",
    "import torch\n",
    "\n",
    "np.set_printoptions(precision=2)"
   ]
  },
  {
   "cell_type": "code",
   "execution_count": 4,
   "id": "e2bba390",
   "metadata": {},
   "outputs": [
    {
     "name": "stdout",
     "output_type": "stream",
     "text": [
      "{0: 0.95, 1: 0.05}\n"
     ]
    }
   ],
   "source": [
    "vmodel = torch.load('example/vmodel/vmodel-10.pt')\n",
    "pmodel = torch.load('example/pmodel/pmodel-10.pt')\n",
    "model = TensorModel(vmodel, pmodel)\n",
    "\n",
    "# model = KuhnPokerModel(1/3, 0.34)\n",
    "\n",
    "# info_set = KuhnPokerInfoSet([PASS, ADD_CHIP], [Card.QUEEN, None]) # Alice\n",
    "info_set = KuhnPokerInfoSet([PASS], [None, Card.JACK]) # Bob\n",
    "\n",
    "trees_hist = gen_tree_hist(model, info_set, iter=100)"
   ]
  },
  {
   "cell_type": "code",
   "execution_count": 6,
   "id": "9a7f3da0",
   "metadata": {},
   "outputs": [
    {
     "data": {
      "application/vnd.jupyter.widget-view+json": {
       "model_id": "0dfe631662a0481da894b90f9986b9b2",
       "version_major": 2,
       "version_minor": 0
      },
      "text/plain": [
       "interactive(children=(IntSlider(value=0, description='Hist Index'), Output()), _dom_classes=('widget-interact'…"
      ]
     },
     "execution_count": 6,
     "metadata": {},
     "output_type": "execute_result"
    }
   ],
   "source": [
    "slider = widgets.IntSlider(min=0, max=len(trees_hist)-1, step=1, description='Hist Index')\n",
    "\n",
    "def update_plot(index):\n",
    "    plot_trees(trees_hist[index])\n",
    "    \n",
    "widgets.interactive(update_plot, index=slider)"
   ]
  },
  {
   "cell_type": "code",
   "execution_count": null,
   "id": "c4af245d",
   "metadata": {},
   "outputs": [],
   "source": []
  }
 ],
 "metadata": {
  "kernelspec": {
   "display_name": "Python 3 (ipykernel)",
   "language": "python",
   "name": "python3"
  },
  "language_info": {
   "codemirror_mode": {
    "name": "ipython",
    "version": 3
   },
   "file_extension": ".py",
   "mimetype": "text/x-python",
   "name": "python",
   "nbconvert_exporter": "python",
   "pygments_lexer": "ipython3",
   "version": "3.11.4"
  }
 },
 "nbformat": 4,
 "nbformat_minor": 5
}
